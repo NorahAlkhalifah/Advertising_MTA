{
 "cells": [
  {
   "cell_type": "markdown",
   "id": "b2644efd",
   "metadata": {},
   "source": [
    "# Advertising events in the MTA Stations "
   ]
  },
  {
   "cell_type": "code",
   "execution_count": 1,
   "id": "55432870",
   "metadata": {},
   "outputs": [],
   "source": [
    "import pandas as pd\n",
    "import numpy as np\n",
    "import matplotlib.pyplot as plt\n",
    "import seaborn as sns"
   ]
  },
  {
   "cell_type": "code",
   "execution_count": 184,
   "id": "c10510e9",
   "metadata": {},
   "outputs": [],
   "source": [
    "import config\n",
    "#SQL\n",
    "import mysql.connector\n",
    "from mysql.connector import errorcode\n",
    "from sqlalchemy import create_engine"
   ]
  },
  {
   "cell_type": "code",
   "execution_count": 206,
   "id": "f30e9900",
   "metadata": {},
   "outputs": [
    {
     "ename": "InterfaceError",
     "evalue": "2003: Can't connect to MySQL server on '%-.100s:%u' (%s) (Warning: %u format: a number is required, not str)",
     "output_type": "error",
     "traceback": [
      "\u001b[0;31m---------------------------------------------------------------------------\u001b[0m",
      "\u001b[0;31mgaierror\u001b[0m                                  Traceback (most recent call last)",
      "\u001b[0;32m~/anaconda3/lib/python3.8/site-packages/mysql/connector/network.py\u001b[0m in \u001b[0;36mopen_connection\u001b[0;34m(self)\u001b[0m\n\u001b[1;32m    546\u001b[0m         \u001b[0;32mtry\u001b[0m\u001b[0;34m:\u001b[0m\u001b[0;34m\u001b[0m\u001b[0;34m\u001b[0m\u001b[0m\n\u001b[0;32m--> 547\u001b[0;31m             addrinfos = socket.getaddrinfo(self.server_host,\n\u001b[0m\u001b[1;32m    548\u001b[0m                                            \u001b[0mself\u001b[0m\u001b[0;34m.\u001b[0m\u001b[0mserver_port\u001b[0m\u001b[0;34m,\u001b[0m\u001b[0;34m\u001b[0m\u001b[0;34m\u001b[0m\u001b[0m\n",
      "\u001b[0;32m~/anaconda3/lib/python3.8/socket.py\u001b[0m in \u001b[0;36mgetaddrinfo\u001b[0;34m(host, port, family, type, proto, flags)\u001b[0m\n\u001b[1;32m    917\u001b[0m     \u001b[0maddrlist\u001b[0m \u001b[0;34m=\u001b[0m \u001b[0;34m[\u001b[0m\u001b[0;34m]\u001b[0m\u001b[0;34m\u001b[0m\u001b[0;34m\u001b[0m\u001b[0m\n\u001b[0;32m--> 918\u001b[0;31m     \u001b[0;32mfor\u001b[0m \u001b[0mres\u001b[0m \u001b[0;32min\u001b[0m \u001b[0m_socket\u001b[0m\u001b[0;34m.\u001b[0m\u001b[0mgetaddrinfo\u001b[0m\u001b[0;34m(\u001b[0m\u001b[0mhost\u001b[0m\u001b[0;34m,\u001b[0m \u001b[0mport\u001b[0m\u001b[0;34m,\u001b[0m \u001b[0mfamily\u001b[0m\u001b[0;34m,\u001b[0m \u001b[0mtype\u001b[0m\u001b[0;34m,\u001b[0m \u001b[0mproto\u001b[0m\u001b[0;34m,\u001b[0m \u001b[0mflags\u001b[0m\u001b[0;34m)\u001b[0m\u001b[0;34m:\u001b[0m\u001b[0;34m\u001b[0m\u001b[0;34m\u001b[0m\u001b[0m\n\u001b[0m\u001b[1;32m    919\u001b[0m         \u001b[0maf\u001b[0m\u001b[0;34m,\u001b[0m \u001b[0msocktype\u001b[0m\u001b[0;34m,\u001b[0m \u001b[0mproto\u001b[0m\u001b[0;34m,\u001b[0m \u001b[0mcanonname\u001b[0m\u001b[0;34m,\u001b[0m \u001b[0msa\u001b[0m \u001b[0;34m=\u001b[0m \u001b[0mres\u001b[0m\u001b[0;34m\u001b[0m\u001b[0;34m\u001b[0m\u001b[0m\n",
      "\u001b[0;31mgaierror\u001b[0m: [Errno 8] nodename nor servname provided, or not known",
      "\nDuring handling of the above exception, another exception occurred:\n",
      "\u001b[0;31mInterfaceError\u001b[0m                            Traceback (most recent call last)",
      "\u001b[0;32m/var/folders/yh/4m90rwdj6ng3b7vw1f6fl6qw0000gn/T/ipykernel_7072/2294956813.py\u001b[0m in \u001b[0;36m<module>\u001b[0;34m\u001b[0m\n\u001b[0;32m----> 1\u001b[0;31m cnx = mysql.connector.connect(\n\u001b[0m\u001b[1;32m      2\u001b[0m  \u001b[0mhost\u001b[0m \u001b[0;34m=\u001b[0m \u001b[0mconfig\u001b[0m\u001b[0;34m.\u001b[0m\u001b[0mhost\u001b[0m\u001b[0;34m,\u001b[0m\u001b[0;34m\u001b[0m\u001b[0;34m\u001b[0m\u001b[0m\n\u001b[1;32m      3\u001b[0m  \u001b[0muser\u001b[0m \u001b[0;34m=\u001b[0m \u001b[0mconfig\u001b[0m\u001b[0;34m.\u001b[0m\u001b[0muser\u001b[0m\u001b[0;34m,\u001b[0m\u001b[0;34m\u001b[0m\u001b[0;34m\u001b[0m\u001b[0m\n\u001b[1;32m      4\u001b[0m  password = config.passwd)\n\u001b[1;32m      5\u001b[0m \u001b[0mprint\u001b[0m\u001b[0;34m(\u001b[0m\u001b[0mcnx\u001b[0m\u001b[0;34m)\u001b[0m\u001b[0;34m\u001b[0m\u001b[0;34m\u001b[0m\u001b[0m\n",
      "\u001b[0;32m~/anaconda3/lib/python3.8/site-packages/mysql/connector/__init__.py\u001b[0m in \u001b[0;36mconnect\u001b[0;34m(*args, **kwargs)\u001b[0m\n\u001b[1;32m    271\u001b[0m     \u001b[0;32mif\u001b[0m \u001b[0mHAVE_CEXT\u001b[0m \u001b[0;32mand\u001b[0m \u001b[0;32mnot\u001b[0m \u001b[0muse_pure\u001b[0m\u001b[0;34m:\u001b[0m\u001b[0;34m\u001b[0m\u001b[0;34m\u001b[0m\u001b[0m\n\u001b[1;32m    272\u001b[0m         \u001b[0;32mreturn\u001b[0m \u001b[0mCMySQLConnection\u001b[0m\u001b[0;34m(\u001b[0m\u001b[0;34m*\u001b[0m\u001b[0margs\u001b[0m\u001b[0;34m,\u001b[0m \u001b[0;34m**\u001b[0m\u001b[0mkwargs\u001b[0m\u001b[0;34m)\u001b[0m\u001b[0;34m\u001b[0m\u001b[0;34m\u001b[0m\u001b[0m\n\u001b[0;32m--> 273\u001b[0;31m     \u001b[0;32mreturn\u001b[0m \u001b[0mMySQLConnection\u001b[0m\u001b[0;34m(\u001b[0m\u001b[0;34m*\u001b[0m\u001b[0margs\u001b[0m\u001b[0;34m,\u001b[0m \u001b[0;34m**\u001b[0m\u001b[0mkwargs\u001b[0m\u001b[0;34m)\u001b[0m\u001b[0;34m\u001b[0m\u001b[0;34m\u001b[0m\u001b[0m\n\u001b[0m\u001b[1;32m    274\u001b[0m \u001b[0mConnect\u001b[0m \u001b[0;34m=\u001b[0m \u001b[0mconnect\u001b[0m  \u001b[0;31m# pylint: disable=C0103\u001b[0m\u001b[0;34m\u001b[0m\u001b[0;34m\u001b[0m\u001b[0m\n\u001b[1;32m    275\u001b[0m \u001b[0;34m\u001b[0m\u001b[0m\n",
      "\u001b[0;32m~/anaconda3/lib/python3.8/site-packages/mysql/connector/connection.py\u001b[0m in \u001b[0;36m__init__\u001b[0;34m(self, *args, **kwargs)\u001b[0m\n\u001b[1;32m    105\u001b[0m         \u001b[0;32mif\u001b[0m \u001b[0mkwargs\u001b[0m\u001b[0;34m:\u001b[0m\u001b[0;34m\u001b[0m\u001b[0;34m\u001b[0m\u001b[0m\n\u001b[1;32m    106\u001b[0m             \u001b[0;32mtry\u001b[0m\u001b[0;34m:\u001b[0m\u001b[0;34m\u001b[0m\u001b[0;34m\u001b[0m\u001b[0m\n\u001b[0;32m--> 107\u001b[0;31m                 \u001b[0mself\u001b[0m\u001b[0;34m.\u001b[0m\u001b[0mconnect\u001b[0m\u001b[0;34m(\u001b[0m\u001b[0;34m**\u001b[0m\u001b[0mkwargs\u001b[0m\u001b[0;34m)\u001b[0m\u001b[0;34m\u001b[0m\u001b[0;34m\u001b[0m\u001b[0m\n\u001b[0m\u001b[1;32m    108\u001b[0m             \u001b[0;32mexcept\u001b[0m\u001b[0;34m:\u001b[0m\u001b[0;34m\u001b[0m\u001b[0;34m\u001b[0m\u001b[0m\n\u001b[1;32m    109\u001b[0m                 \u001b[0;31m# Tidy-up underlying socket on failure\u001b[0m\u001b[0;34m\u001b[0m\u001b[0;34m\u001b[0m\u001b[0;34m\u001b[0m\u001b[0m\n",
      "\u001b[0;32m~/anaconda3/lib/python3.8/site-packages/mysql/connector/abstracts.py\u001b[0m in \u001b[0;36mconnect\u001b[0;34m(self, **kwargs)\u001b[0m\n\u001b[1;32m   1001\u001b[0m \u001b[0;34m\u001b[0m\u001b[0m\n\u001b[1;32m   1002\u001b[0m         \u001b[0mself\u001b[0m\u001b[0;34m.\u001b[0m\u001b[0mdisconnect\u001b[0m\u001b[0;34m(\u001b[0m\u001b[0;34m)\u001b[0m\u001b[0;34m\u001b[0m\u001b[0;34m\u001b[0m\u001b[0m\n\u001b[0;32m-> 1003\u001b[0;31m         \u001b[0mself\u001b[0m\u001b[0;34m.\u001b[0m\u001b[0m_open_connection\u001b[0m\u001b[0;34m(\u001b[0m\u001b[0;34m)\u001b[0m\u001b[0;34m\u001b[0m\u001b[0;34m\u001b[0m\u001b[0m\n\u001b[0m\u001b[1;32m   1004\u001b[0m         \u001b[0;31m# Server does not allow to run any other statement different from ALTER\u001b[0m\u001b[0;34m\u001b[0m\u001b[0;34m\u001b[0m\u001b[0;34m\u001b[0m\u001b[0m\n\u001b[1;32m   1005\u001b[0m         \u001b[0;31m# when user's password has been expired.\u001b[0m\u001b[0;34m\u001b[0m\u001b[0;34m\u001b[0m\u001b[0;34m\u001b[0m\u001b[0m\n",
      "\u001b[0;32m~/anaconda3/lib/python3.8/site-packages/mysql/connector/connection.py\u001b[0m in \u001b[0;36m_open_connection\u001b[0;34m(self)\u001b[0m\n\u001b[1;32m    348\u001b[0m         \u001b[0mself\u001b[0m\u001b[0;34m.\u001b[0m\u001b[0m_socket\u001b[0m \u001b[0;34m=\u001b[0m \u001b[0mself\u001b[0m\u001b[0;34m.\u001b[0m\u001b[0m_get_connection\u001b[0m\u001b[0;34m(\u001b[0m\u001b[0;34m)\u001b[0m\u001b[0;34m\u001b[0m\u001b[0;34m\u001b[0m\u001b[0m\n\u001b[1;32m    349\u001b[0m         \u001b[0;32mtry\u001b[0m\u001b[0;34m:\u001b[0m\u001b[0;34m\u001b[0m\u001b[0;34m\u001b[0m\u001b[0m\n\u001b[0;32m--> 350\u001b[0;31m             \u001b[0mself\u001b[0m\u001b[0;34m.\u001b[0m\u001b[0m_socket\u001b[0m\u001b[0;34m.\u001b[0m\u001b[0mopen_connection\u001b[0m\u001b[0;34m(\u001b[0m\u001b[0;34m)\u001b[0m\u001b[0;34m\u001b[0m\u001b[0;34m\u001b[0m\u001b[0m\n\u001b[0m\u001b[1;32m    351\u001b[0m             \u001b[0mself\u001b[0m\u001b[0;34m.\u001b[0m\u001b[0m_do_handshake\u001b[0m\u001b[0;34m(\u001b[0m\u001b[0;34m)\u001b[0m\u001b[0;34m\u001b[0m\u001b[0;34m\u001b[0m\u001b[0m\n\u001b[1;32m    352\u001b[0m             self._do_auth(self._user, self._password,\n",
      "\u001b[0;32m~/anaconda3/lib/python3.8/site-packages/mysql/connector/network.py\u001b[0m in \u001b[0;36mopen_connection\u001b[0;34m(self)\u001b[0m\n\u001b[1;32m    563\u001b[0m                 \u001b[0maddrinfo\u001b[0m \u001b[0;34m=\u001b[0m \u001b[0maddrinfos\u001b[0m\u001b[0;34m[\u001b[0m\u001b[0;36m0\u001b[0m\u001b[0;34m]\u001b[0m\u001b[0;34m\u001b[0m\u001b[0;34m\u001b[0m\u001b[0m\n\u001b[1;32m    564\u001b[0m         \u001b[0;32mexcept\u001b[0m \u001b[0mIOError\u001b[0m \u001b[0;32mas\u001b[0m \u001b[0merr\u001b[0m\u001b[0;34m:\u001b[0m\u001b[0;34m\u001b[0m\u001b[0;34m\u001b[0m\u001b[0m\n\u001b[0;32m--> 565\u001b[0;31m             raise errors.InterfaceError(\n\u001b[0m\u001b[1;32m    566\u001b[0m                 errno=2003, values=(self.get_address(), _strioerror(err)))\n\u001b[1;32m    567\u001b[0m         \u001b[0;32melse\u001b[0m\u001b[0;34m:\u001b[0m\u001b[0;34m\u001b[0m\u001b[0;34m\u001b[0m\u001b[0m\n",
      "\u001b[0;31mInterfaceError\u001b[0m: 2003: Can't connect to MySQL server on '%-.100s:%u' (%s) (Warning: %u format: a number is required, not str)"
     ]
    }
   ],
   "source": [
    "cnx = mysql.connector.connect(\n",
    " host = config.host,\n",
    " user = config.user,\n",
    " password = config.passwd)\n",
    "print(cnx)\n",
    "cursor = cnx.cursor()\n",
    "#insert Database Name\n",
    "db_name = 'mtaevents'"
   ]
  },
  {
   "cell_type": "code",
   "execution_count": null,
   "id": "9ed872ae",
   "metadata": {},
   "outputs": [],
   "source": [
    "#creates db\n",
    "def create_database(cursor, database):\n",
    "     try:\n",
    "        cursor.execute(\n",
    "         \"CREATE DATABASE {} DEFAULT CHARACTER SET\n",
    "        'utf8'\".format(database))\n",
    "         except mysql.connector.Error as err:\n",
    "         print(\"Failed creating database: {}\".format(err))\n",
    "         exit(1)\n",
    "    try:\n",
    "         cursor.execute(\"USE {}\".format(db_name))\n",
    "    except mysql.connector.Error as err:\n",
    "         print(\"Database {} does not exists.\".format(db_name))\n",
    "         if err.errno == errorcode.ER_BAD_DB_ERROR:\n",
    "         create_database(cursor, db_name)\n",
    "         print(\"Database {} created successfully.\".format(db_name))\n",
    "         cnx.database = db_name\n",
    "         else:\n",
    "         print(err)\n",
    "         exit(1)"
   ]
  },
  {
   "cell_type": "markdown",
   "id": "fcd62e6f",
   "metadata": {},
   "source": [
    "### Creating a function to concat the MTA turnstile datasets into one dataframe"
   ]
  },
  {
   "cell_type": "code",
   "execution_count": 2,
   "id": "8496d0f9",
   "metadata": {},
   "outputs": [],
   "source": [
    "def concant(weeks):\n",
    "    url = \"http://web.mta.info/developers/data/nyct/turnstile/turnstile_{}.txt\"\n",
    "    \n",
    "    dfs = []\n",
    "    for i in weeks:\n",
    "        url_file = url.format(i)\n",
    "        print(url_file)\n",
    "        dfs.append(pd.read_csv(url_file))\n",
    "    return pd.concat(dfs)"
   ]
  },
  {
   "cell_type": "markdown",
   "id": "979ab885",
   "metadata": {},
   "source": [
    "### Generate the wanted started date for getting the MTA turnstile datasets"
   ]
  },
  {
   "cell_type": "code",
   "execution_count": 3,
   "id": "3bd62083",
   "metadata": {},
   "outputs": [],
   "source": [
    "from datetime import datetime, timedelta\n",
    "\n",
    "def generate_dates (sdate):\n",
    "    dates = pd.date_range(sdate,pd.to_datetime(\"today\")-timedelta(days=1),freq='w-sat')\n",
    "    weeks = [i.strftime('%y%m%d') for i in list(dates)]\n",
    "\n",
    "    return concant(weeks)"
   ]
  },
  {
   "cell_type": "code",
   "execution_count": null,
   "id": "d17000d3",
   "metadata": {},
   "outputs": [],
   "source": [
    "df = generate_dates('2021-06-27')\n",
    "df.head()"
   ]
  },
  {
   "cell_type": "code",
   "execution_count": null,
   "id": "dc10943b",
   "metadata": {},
   "outputs": [],
   "source": [
    "df.dtypes"
   ]
  },
  {
   "cell_type": "markdown",
   "id": "650ffa5e",
   "metadata": {},
   "source": [
    "### Convert Date attribute to datetime object"
   ]
  },
  {
   "cell_type": "code",
   "execution_count": null,
   "id": "f7da04b4",
   "metadata": {},
   "outputs": [],
   "source": [
    "df['DATE'] = df['DATE'].apply(pd.to_datetime)\n",
    "df['DATE'].head()"
   ]
  },
  {
   "cell_type": "markdown",
   "id": "c6f25fa5",
   "metadata": {},
   "source": [
    "### Read NYC events dataset\n"
   ]
  },
  {
   "cell_type": "code",
   "execution_count": null,
   "id": "1e8b02cb",
   "metadata": {},
   "outputs": [],
   "source": [
    "df_event = pd.read_csv(\"NYC_Permitted_Event_Information.csv\")\n",
    "df_event['Start Date/Time']"
   ]
  },
  {
   "cell_type": "markdown",
   "id": "363a53ba",
   "metadata": {},
   "source": [
    "##### Find the percentage of missing values in each column in the event dataset\n"
   ]
  },
  {
   "cell_type": "code",
   "execution_count": null,
   "id": "95e4f218",
   "metadata": {},
   "outputs": [],
   "source": [
    "for col in df_event.columns:\n",
    "    pct_missing = np.mean(df_event[col].isna())\n",
    "    print('{} - {}%'.format(col, round(pct_missing*100)))"
   ]
  },
  {
   "cell_type": "markdown",
   "id": "db86a359",
   "metadata": {},
   "source": [
    "##### Drop columns with missing values\n"
   ]
  },
  {
   "cell_type": "code",
   "execution_count": null,
   "id": "5e11e84b",
   "metadata": {},
   "outputs": [],
   "source": [
    "df_event.columns\n",
    "df_event = df_event.drop(labels=['Event Street Side','Street Closure Type'],axis=1)\n",
    "df_event.columns"
   ]
  },
  {
   "cell_type": "markdown",
   "id": "e3bbb27b",
   "metadata": {},
   "source": [
    "##### Checking the type of each column\n"
   ]
  },
  {
   "cell_type": "code",
   "execution_count": null,
   "id": "955e3d41",
   "metadata": {},
   "outputs": [],
   "source": [
    "df_event.dtypes"
   ]
  },
  {
   "cell_type": "markdown",
   "id": "10f81a5c",
   "metadata": {},
   "source": [
    "##### Convert Start and End date to datetime objects"
   ]
  },
  {
   "cell_type": "code",
   "execution_count": 13,
   "id": "744770f3",
   "metadata": {},
   "outputs": [],
   "source": [
    "df_event[['Start Date/Time','End Date/Time']] = df_event[['Start Date/Time','End Date/Time']].apply(pd.to_datetime)"
   ]
  },
  {
   "cell_type": "code",
   "execution_count": null,
   "id": "f16bcd1a",
   "metadata": {},
   "outputs": [],
   "source": [
    "df_event.dtypes"
   ]
  },
  {
   "cell_type": "markdown",
   "id": "1b53f4d7",
   "metadata": {},
   "source": [
    "#### Extract only the date from Start Date/Time attribute"
   ]
  },
  {
   "cell_type": "code",
   "execution_count": null,
   "id": "77aff050",
   "metadata": {},
   "outputs": [],
   "source": [
    "df_event['Start Date'] = df_event['Start Date/Time'].dt.date\n",
    "df_event['Start Date']"
   ]
  },
  {
   "cell_type": "markdown",
   "id": "fc5b34bd",
   "metadata": {},
   "source": [
    "### Create a mask range for events that occurred over a certain time period."
   ]
  },
  {
   "cell_type": "code",
   "execution_count": null,
   "id": "e1ac1d44",
   "metadata": {},
   "outputs": [],
   "source": [
    "\n",
    "mask = (df_event[\"Start Date\"] > pd.Timestamp('2021-06-27')) & (df_event[\"Start Date\"] <= pd.Timestamp('2021-09-27'))\n",
    "df_event_range = df_event.loc[mask]\n",
    "df_event_range = df_event_range.sort_values(by='Start Date')\n",
    "df_event_range\n",
    "\n"
   ]
  },
  {
   "cell_type": "markdown",
   "id": "ef9f3fc2",
   "metadata": {},
   "source": [
    "#### Convert Start Date attribute to datetime object"
   ]
  },
  {
   "cell_type": "code",
   "execution_count": 18,
   "id": "8eb4c9fd",
   "metadata": {},
   "outputs": [],
   "source": [
    "df_event_range['Start Date'] = df_event_range['Start Date'].apply(pd.to_datetime)"
   ]
  },
  {
   "cell_type": "markdown",
   "id": "25e0dd3f",
   "metadata": {},
   "source": [
    "#### Check the most type of events that happened in each month"
   ]
  },
  {
   "cell_type": "code",
   "execution_count": null,
   "id": "1af485e5",
   "metadata": {},
   "outputs": [],
   "source": [
    "date_range = pd.date_range(start='2021-06-27', end='2021-09-27',freq='M')\n",
    "print(date_range)\n",
    "most_event_type = df_event_range.groupby([df_event_range['Start Date'].dt.month, 'Event Type'])['Event Type'].count()\n",
    "most_event_type = pd.DataFrame(most_event_type)\n",
    "most_event_type = most_event_type.rename({'Event Type' : 'Count' , 'Start Date' : 'Month'},axis=1)\n",
    "print(most_event_type.columns)\n",
    "most_event_type"
   ]
  },
  {
   "cell_type": "markdown",
   "id": "862c898a",
   "metadata": {},
   "source": [
    "#### Changing the name of the rows to Month name instead of month number and resetting the index of the dataframe"
   ]
  },
  {
   "cell_type": "code",
   "execution_count": null,
   "id": "e62a1d95",
   "metadata": {},
   "outputs": [],
   "source": [
    "indexed_most_event_type = most_event_type.reset_index()\n",
    "indexed_most_event_type = indexed_most_event_type.rename({'Start Date' : 'Month'},axis=1)\n",
    "indexed_most_event_type['Month'] = indexed_most_event_type['Month'].replace({7:'July',8:'August',9:'September '})\n",
    "indexed_most_event_type\n"
   ]
  },
  {
   "cell_type": "code",
   "execution_count": null,
   "id": "a33d0d6a",
   "metadata": {},
   "outputs": [],
   "source": [
    "for col in df_event.columns:\n",
    "    pct_missing = np.mean(df_event[col].isna())\n",
    "    print('{} - {}%'.format(col, round(pct_missing*100)))"
   ]
  },
  {
   "cell_type": "markdown",
   "id": "b48cf475",
   "metadata": {},
   "source": [
    "#### Check how many unique event locations"
   ]
  },
  {
   "cell_type": "code",
   "execution_count": 23,
   "id": "4253dac8",
   "metadata": {
    "scrolled": true
   },
   "outputs": [
    {
     "name": "stdout",
     "output_type": "stream",
     "text": [
      "3523\n"
     ]
    }
   ],
   "source": [
    "event_locations = df_event['Event Location'].unique()\n",
    "print(len(event_locations))"
   ]
  },
  {
   "cell_type": "markdown",
   "id": "b14854de",
   "metadata": {},
   "source": [
    "#### Getting unique event types "
   ]
  },
  {
   "cell_type": "code",
   "execution_count": null,
   "id": "cf98be3c",
   "metadata": {},
   "outputs": [],
   "source": [
    "df_event[\"Event Type\"] = df_event[\"Event Type\"].str.strip(' ')\n",
    "event_type = df_event[\"Event Type\"].unique()\n",
    "print(event_type)\n"
   ]
  },
  {
   "cell_type": "markdown",
   "id": "bd687bc6",
   "metadata": {},
   "source": [
    "#### Most common date for events"
   ]
  },
  {
   "cell_type": "code",
   "execution_count": null,
   "id": "da44a1da",
   "metadata": {},
   "outputs": [],
   "source": [
    "events_date = df_event_range['Start Date/Time'].dt.date.value_counts()\n",
    "events_date"
   ]
  },
  {
   "cell_type": "code",
   "execution_count": null,
   "id": "957716e1",
   "metadata": {},
   "outputs": [],
   "source": [
    "# events_date_plot = events_date.plot(kind='pie', figsize=(10,10),autopct='%1.0f%%')\n",
    "# events_date.to_csv('events_date.csv')"
   ]
  },
  {
   "cell_type": "markdown",
   "id": "70d5e273",
   "metadata": {},
   "source": [
    "#### How many events have occured in each date"
   ]
  },
  {
   "cell_type": "code",
   "execution_count": null,
   "id": "4c1c0690",
   "metadata": {},
   "outputs": [],
   "source": [
    "grouped_by_date = df_event_range.groupby(df_event_range['Start Date'])[\"Event Type\"].count()\n",
    "grouped_by_date = pd.DataFrame(grouped_by_date)\n",
    "grouped_by_date = grouped_by_date.sort_values('Start Date')\n",
    "grouped_by_date"
   ]
  },
  {
   "cell_type": "markdown",
   "id": "6fc20f1a",
   "metadata": {},
   "source": [
    "#### Checking event boroughs"
   ]
  },
  {
   "cell_type": "code",
   "execution_count": null,
   "id": "9347d694",
   "metadata": {},
   "outputs": [],
   "source": [
    "boroughs = df_event_range['Event Borough'].unique()\n",
    "boroughs"
   ]
  },
  {
   "cell_type": "markdown",
   "id": "7e034223",
   "metadata": {},
   "source": [
    "#### How many events have occured in total"
   ]
  },
  {
   "cell_type": "code",
   "execution_count": null,
   "id": "144e4968",
   "metadata": {},
   "outputs": [],
   "source": [
    "events_type_count = df_event_range[\"Event Type\"].value_counts()\n",
    "events_type_count"
   ]
  },
  {
   "cell_type": "markdown",
   "id": "69ad8e5e",
   "metadata": {},
   "source": [
    "#### Type of events and how many each occured in Brooklyn"
   ]
  },
  {
   "cell_type": "code",
   "execution_count": null,
   "id": "bdb261b8",
   "metadata": {},
   "outputs": [],
   "source": [
    "\n",
    "brooklyn_grouped_by = df_event_range[df_event_range['Event Borough'] == 'Brooklyn'].groupby(['Event Borough'])['Event Type'].value_counts()\n",
    "df_brooklyn_grouped_by = pd.DataFrame(brooklyn_grouped_by)\n",
    "df_brooklyn_grouped_by = df_brooklyn_grouped_by.rename({'Event Type': 'Count'},axis=1)\n",
    "df_brooklyn_grouped_by\n",
    "\n"
   ]
  },
  {
   "cell_type": "markdown",
   "id": "0fa24fac",
   "metadata": {},
   "source": [
    "#### A simple visualization of event types that were placed in Brooklyn"
   ]
  },
  {
   "cell_type": "code",
   "execution_count": null,
   "id": "b8fa620f",
   "metadata": {},
   "outputs": [],
   "source": [
    "df_brooklyn_grouped_by_plot = df_brooklyn_grouped_by.plot.barh(title=\"Brooklyn - Event Types\");\n",
    "plt.savefig('df_brooklyn_grouped_by_plot.png', dpi=300, bbox_inches='tight')\n"
   ]
  },
  {
   "cell_type": "markdown",
   "id": "e3f9dfcb",
   "metadata": {},
   "source": [
    "#### Type of events and how many each occured in Manhattan"
   ]
  },
  {
   "cell_type": "code",
   "execution_count": null,
   "id": "e99b5812",
   "metadata": {},
   "outputs": [],
   "source": [
    "manhattan_grouped_by = df_event_range[df_event_range['Event Borough'] == 'Manhattan'].groupby(['Event Borough'])['Event Type'].value_counts()\n",
    "df_manhattan_grouped_by = pd.DataFrame(manhattan_grouped_by)\n",
    "df_manhattan_grouped_by = df_manhattan_grouped_by.rename({'Event Type': 'Count'},axis=1)\n",
    "df_manhattan_grouped_by.sort_values(by='Count', ascending=False)"
   ]
  },
  {
   "cell_type": "code",
   "execution_count": null,
   "id": "41870610",
   "metadata": {},
   "outputs": [],
   "source": [
    "df_manhattan_grouped_by.plot.barh(title=\" Manhattan - Event Types\");"
   ]
  },
  {
   "cell_type": "markdown",
   "id": "3178ed56",
   "metadata": {},
   "source": [
    "##### Type of events and how many each occured in the other boroughs"
   ]
  },
  {
   "cell_type": "code",
   "execution_count": null,
   "id": "412e55b1",
   "metadata": {},
   "outputs": [],
   "source": [
    "queens_grouped_by = df_event_range[df_event_range['Event Borough'] == 'Queens'].groupby(['Event Borough'])['Event Type'].value_counts()\n",
    "df_queens_grouped_by = pd.DataFrame(queens_grouped_by)\n",
    "df_queens_grouped_by = df_queens_grouped_by.rename({'Event Type': 'Count'},axis=1)\n",
    "df_queens_grouped_by.sort_values(by='Count', ascending=False)"
   ]
  },
  {
   "cell_type": "code",
   "execution_count": null,
   "id": "bf342091",
   "metadata": {},
   "outputs": [],
   "source": [
    "bronx_grouped_by = df_event_range[df_event_range['Event Borough'] == 'Bronx'].groupby(['Event Borough'])['Event Type'].value_counts()\n",
    "df_bronx_grouped_by = pd.DataFrame(bronx_grouped_by)\n",
    "df_bronx_grouped_by = df_bronx_grouped_by.rename({'Event Type': 'Count'},axis=1)\n",
    "df_bronx_grouped_by.sort_values(by='Count', ascending=False)"
   ]
  },
  {
   "cell_type": "code",
   "execution_count": null,
   "id": "d1947941",
   "metadata": {},
   "outputs": [],
   "source": [
    "staten_island_grouped_by = df_event_range[df_event_range['Event Borough'] == 'Staten Island'].groupby(['Event Borough'])['Event Type'].value_counts()\n",
    "df_staten_island_grouped_by = pd.DataFrame(staten_island_grouped_by)\n",
    "df_staten_island_grouped_by = df_staten_island_grouped_by.rename({'Event Type': 'Count'},axis=1)\n",
    "df_staten_island_grouped_by.sort_values(by='Count', ascending=False)"
   ]
  },
  {
   "cell_type": "code",
   "execution_count": 40,
   "id": "b630ab13",
   "metadata": {},
   "outputs": [],
   "source": [
    "turnstiles_df = df"
   ]
  },
  {
   "cell_type": "markdown",
   "id": "5853d145",
   "metadata": {},
   "source": [
    "### Reading the MTA Station dataset"
   ]
  },
  {
   "cell_type": "code",
   "execution_count": null,
   "id": "4ac25391",
   "metadata": {},
   "outputs": [],
   "source": [
    "stations = pd.read_csv(\"http://web.mta.info/developers/data/nyct/subway/Stations.csv\")\n",
    "stations.head()"
   ]
  },
  {
   "cell_type": "markdown",
   "id": "f99f1846",
   "metadata": {},
   "source": [
    "#### Unifying station name from the MTA Station dataset and MTA turnstile dataset"
   ]
  },
  {
   "cell_type": "code",
   "execution_count": 42,
   "id": "50d081b5",
   "metadata": {},
   "outputs": [],
   "source": [
    "stations[\"STATION\"] = stations[\"Stop Name\"].str.strip().str.strip(\".\").str.upper()\n",
    "stations.drop_duplicates(subset =\"STATION\",\n",
    "                     keep = \"first\", inplace = True)\n",
    "stations = stations.sort_values(\"STATION\")\n",
    "turnstiles_df = turnstiles_df.sort_values(\"STATION\")\n"
   ]
  },
  {
   "cell_type": "code",
   "execution_count": 43,
   "id": "94c24e8c",
   "metadata": {},
   "outputs": [],
   "source": [
    "turnstiles_df.drop(turnstiles_df.index[turnstiles_df['STATION'] == '14TH STREET'], inplace = True)\n",
    "turnstiles_df[\"STATION\"] = turnstiles_df[\"STATION\"].str.strip().str.strip(\".\").str.upper()\n",
    "stations[\"STATION\"] = turnstiles_df[\"STATION\"].unique().copy()"
   ]
  },
  {
   "cell_type": "code",
   "execution_count": 44,
   "id": "45a9d7e8",
   "metadata": {},
   "outputs": [],
   "source": [
    "stations_borough = stations[[\"STATION\", \"Borough\"]]\n",
    "stations_borough = stations_borough.replace({\"Borough\" : {\"M\" : \"Manhattan\", \"Q\" : \"Queens\",\n",
    "                                                          \"Bx\" : \"Bronx\", \"Bk\" : \"Brooklyn\",\n",
    "                                                          \"SI\" : \"Staten Island\"}}, regex = True)\n"
   ]
  },
  {
   "cell_type": "markdown",
   "id": "c46c84dd",
   "metadata": {},
   "source": [
    "#### Merging both MTA station dataset and MTA turnstile dataset on STATION"
   ]
  },
  {
   "cell_type": "code",
   "execution_count": null,
   "id": "ac974071",
   "metadata": {},
   "outputs": [],
   "source": [
    "stations_borough_totals = pd.merge(turnstiles_df, stations_borough, on = \"STATION\")\n",
    "stations_borough_totals"
   ]
  },
  {
   "cell_type": "code",
   "execution_count": null,
   "id": "c166993f",
   "metadata": {},
   "outputs": [],
   "source": [
    "# stations_borough_totals_mini = stations_borough_totals[['STATION','Borough','ENTRIES','DATE']].copy()\n",
    "# stations_borough_totals_mini\n",
    "# df_event_range_mini = df_event_range[['Event Name','Event Type','Event Borough','Start Date']].copy()\n",
    "# df_event_range_mini"
   ]
  },
  {
   "cell_type": "markdown",
   "id": "eec00e28",
   "metadata": {},
   "source": [
    "#### Getting the total entries in each borough for the last 3 months"
   ]
  },
  {
   "cell_type": "code",
   "execution_count": null,
   "id": "2f7658eb",
   "metadata": {},
   "outputs": [],
   "source": [
    "total_entries_borough = stations_borough_totals.groupby(['Borough'])['ENTRIES'].sum()\n",
    "total_entries_borough\n"
   ]
  },
  {
   "cell_type": "code",
   "execution_count": null,
   "id": "c6dfe610",
   "metadata": {},
   "outputs": [],
   "source": [
    "plt.title(\"Total entries for each borough for the last 3 months\",fontsize=20)\n",
    "total_entries_borough_image = total_entries_borough.plot(kind='bar',figsize=(20,10),fontsize=16)\n",
    "\n",
    "plt.savefig('total_entries_borough_image.png', dpi=300, bbox_inches='tight')\n",
    "\n"
   ]
  },
  {
   "cell_type": "markdown",
   "id": "69206610",
   "metadata": {},
   "source": [
    "#### Getting top stations by number of entries"
   ]
  },
  {
   "cell_type": "code",
   "execution_count": 191,
   "id": "9ff215ff",
   "metadata": {},
   "outputs": [],
   "source": [
    "top_stations = df.groupby(['STATION'], as_index = False )['ENTRIES'].max()\n",
    "top_stations = pd.DataFrame(top_stations)\n",
    "top_stations = top_stations.sort_values('ENTRIES', ascending=False)\n",
    "\n",
    "top_stations.to_csv('top_stations.csv')"
   ]
  },
  {
   "cell_type": "code",
   "execution_count": null,
   "id": "f2610573",
   "metadata": {},
   "outputs": [],
   "source": [
    "top_stations"
   ]
  }
 ],
 "metadata": {
  "kernelspec": {
   "display_name": "Python 3 (ipykernel)",
   "language": "python",
   "name": "python3"
  },
  "language_info": {
   "codemirror_mode": {
    "name": "ipython",
    "version": 3
   },
   "file_extension": ".py",
   "mimetype": "text/x-python",
   "name": "python",
   "nbconvert_exporter": "python",
   "pygments_lexer": "ipython3",
   "version": "3.8.5"
  }
 },
 "nbformat": 4,
 "nbformat_minor": 5
}
