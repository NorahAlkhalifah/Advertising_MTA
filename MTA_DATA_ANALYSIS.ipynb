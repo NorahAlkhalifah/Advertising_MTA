{
 "cells": [
  {
   "cell_type": "markdown",
   "id": "b2644efd",
   "metadata": {},
   "source": [
    "#### The NYC Permitted Event Information dataset contains information on approved event applications that will take place in the next month. <br> And I'm working to identify how each event relates to each station from the MTA datasets."
   ]
  },
  {
   "cell_type": "code",
   "execution_count": 104,
   "id": "55432870",
   "metadata": {},
   "outputs": [],
   "source": [
    "import pandas as pd\n",
    "import numpy as np\n",
    "import matplotlib.pyplot as plt"
   ]
  },
  {
   "cell_type": "code",
   "execution_count": 91,
   "id": "8496d0f9",
   "metadata": {},
   "outputs": [],
   "source": [
    "def concant(weeks):\n",
    "    url = \"http://web.mta.info/developers/data/nyct/turnstile/turnstile_{}.txt\"\n",
    "    \n",
    "    dfs = []\n",
    "    for i in weeks:\n",
    "        url_file = url.format(i)\n",
    "        print(url_file)\n",
    "        dfs.append(pd.read_csv(url_file))\n",
    "    return pd.concat(dfs)"
   ]
  },
  {
   "cell_type": "code",
   "execution_count": 92,
   "id": "3bd62083",
   "metadata": {},
   "outputs": [],
   "source": [
    "from datetime import datetime, timedelta\n",
    "\n",
    "def generate_dates (sdate):\n",
    "    dates = pd.date_range(sdate,pd.to_datetime(\"today\")-timedelta(days=1),freq='w-sat')\n",
    "    weeks = [i.strftime('%y%m%d') for i in list(dates)]\n",
    "\n",
    "    return concant(weeks)"
   ]
  },
  {
   "cell_type": "code",
   "execution_count": 147,
   "id": "00e0f2f3",
   "metadata": {},
   "outputs": [
    {
     "name": "stdout",
     "output_type": "stream",
     "text": [
      "http://web.mta.info/developers/data/nyct/turnstile/turnstile_210703.txt\n",
      "http://web.mta.info/developers/data/nyct/turnstile/turnstile_210710.txt\n",
      "http://web.mta.info/developers/data/nyct/turnstile/turnstile_210717.txt\n",
      "http://web.mta.info/developers/data/nyct/turnstile/turnstile_210724.txt\n",
      "http://web.mta.info/developers/data/nyct/turnstile/turnstile_210731.txt\n",
      "http://web.mta.info/developers/data/nyct/turnstile/turnstile_210807.txt\n",
      "http://web.mta.info/developers/data/nyct/turnstile/turnstile_210814.txt\n",
      "http://web.mta.info/developers/data/nyct/turnstile/turnstile_210821.txt\n",
      "http://web.mta.info/developers/data/nyct/turnstile/turnstile_210828.txt\n",
      "http://web.mta.info/developers/data/nyct/turnstile/turnstile_210904.txt\n",
      "http://web.mta.info/developers/data/nyct/turnstile/turnstile_210911.txt\n",
      "http://web.mta.info/developers/data/nyct/turnstile/turnstile_210918.txt\n",
      "http://web.mta.info/developers/data/nyct/turnstile/turnstile_210925.txt\n"
     ]
    }
   ],
   "source": [
    "df = generate_dates('2021-06-27')"
   ]
  },
  {
   "cell_type": "code",
   "execution_count": 148,
   "id": "f138411c",
   "metadata": {
    "scrolled": true
   },
   "outputs": [
    {
     "data": {
      "text/html": [
       "<div>\n",
       "<style scoped>\n",
       "    .dataframe tbody tr th:only-of-type {\n",
       "        vertical-align: middle;\n",
       "    }\n",
       "\n",
       "    .dataframe tbody tr th {\n",
       "        vertical-align: top;\n",
       "    }\n",
       "\n",
       "    .dataframe thead th {\n",
       "        text-align: right;\n",
       "    }\n",
       "</style>\n",
       "<table border=\"1\" class=\"dataframe\">\n",
       "  <thead>\n",
       "    <tr style=\"text-align: right;\">\n",
       "      <th></th>\n",
       "      <th>C/A</th>\n",
       "      <th>UNIT</th>\n",
       "      <th>SCP</th>\n",
       "      <th>STATION</th>\n",
       "      <th>LINENAME</th>\n",
       "      <th>DIVISION</th>\n",
       "      <th>DATE</th>\n",
       "      <th>TIME</th>\n",
       "      <th>DESC</th>\n",
       "      <th>ENTRIES</th>\n",
       "      <th>EXITS</th>\n",
       "    </tr>\n",
       "  </thead>\n",
       "  <tbody>\n",
       "    <tr>\n",
       "      <th>0</th>\n",
       "      <td>A002</td>\n",
       "      <td>R051</td>\n",
       "      <td>02-00-00</td>\n",
       "      <td>59 ST</td>\n",
       "      <td>NQR456W</td>\n",
       "      <td>BMT</td>\n",
       "      <td>06/26/2021</td>\n",
       "      <td>00:00:00</td>\n",
       "      <td>REGULAR</td>\n",
       "      <td>7592792</td>\n",
       "      <td>2595706</td>\n",
       "    </tr>\n",
       "    <tr>\n",
       "      <th>1</th>\n",
       "      <td>A002</td>\n",
       "      <td>R051</td>\n",
       "      <td>02-00-00</td>\n",
       "      <td>59 ST</td>\n",
       "      <td>NQR456W</td>\n",
       "      <td>BMT</td>\n",
       "      <td>06/26/2021</td>\n",
       "      <td>04:00:00</td>\n",
       "      <td>REGULAR</td>\n",
       "      <td>7592804</td>\n",
       "      <td>2595713</td>\n",
       "    </tr>\n",
       "    <tr>\n",
       "      <th>2</th>\n",
       "      <td>A002</td>\n",
       "      <td>R051</td>\n",
       "      <td>02-00-00</td>\n",
       "      <td>59 ST</td>\n",
       "      <td>NQR456W</td>\n",
       "      <td>BMT</td>\n",
       "      <td>06/26/2021</td>\n",
       "      <td>08:00:00</td>\n",
       "      <td>REGULAR</td>\n",
       "      <td>7592816</td>\n",
       "      <td>2595729</td>\n",
       "    </tr>\n",
       "    <tr>\n",
       "      <th>3</th>\n",
       "      <td>A002</td>\n",
       "      <td>R051</td>\n",
       "      <td>02-00-00</td>\n",
       "      <td>59 ST</td>\n",
       "      <td>NQR456W</td>\n",
       "      <td>BMT</td>\n",
       "      <td>06/26/2021</td>\n",
       "      <td>12:00:00</td>\n",
       "      <td>REGULAR</td>\n",
       "      <td>7592870</td>\n",
       "      <td>2595762</td>\n",
       "    </tr>\n",
       "    <tr>\n",
       "      <th>4</th>\n",
       "      <td>A002</td>\n",
       "      <td>R051</td>\n",
       "      <td>02-00-00</td>\n",
       "      <td>59 ST</td>\n",
       "      <td>NQR456W</td>\n",
       "      <td>BMT</td>\n",
       "      <td>06/26/2021</td>\n",
       "      <td>16:00:00</td>\n",
       "      <td>REGULAR</td>\n",
       "      <td>7592992</td>\n",
       "      <td>2595791</td>\n",
       "    </tr>\n",
       "  </tbody>\n",
       "</table>\n",
       "</div>"
      ],
      "text/plain": [
       "    C/A  UNIT       SCP STATION LINENAME DIVISION        DATE      TIME  \\\n",
       "0  A002  R051  02-00-00   59 ST  NQR456W      BMT  06/26/2021  00:00:00   \n",
       "1  A002  R051  02-00-00   59 ST  NQR456W      BMT  06/26/2021  04:00:00   \n",
       "2  A002  R051  02-00-00   59 ST  NQR456W      BMT  06/26/2021  08:00:00   \n",
       "3  A002  R051  02-00-00   59 ST  NQR456W      BMT  06/26/2021  12:00:00   \n",
       "4  A002  R051  02-00-00   59 ST  NQR456W      BMT  06/26/2021  16:00:00   \n",
       "\n",
       "      DESC  ENTRIES  \\\n",
       "0  REGULAR  7592792   \n",
       "1  REGULAR  7592804   \n",
       "2  REGULAR  7592816   \n",
       "3  REGULAR  7592870   \n",
       "4  REGULAR  7592992   \n",
       "\n",
       "   EXITS                                                                 \n",
       "0                                            2595706                     \n",
       "1                                            2595713                     \n",
       "2                                            2595729                     \n",
       "3                                            2595762                     \n",
       "4                                            2595791                     "
      ]
     },
     "execution_count": 148,
     "metadata": {},
     "output_type": "execute_result"
    }
   ],
   "source": [
    "df.head()"
   ]
  },
  {
   "cell_type": "code",
   "execution_count": 150,
   "id": "a56f43dd",
   "metadata": {},
   "outputs": [
    {
     "data": {
      "text/plain": [
       "C/A                                                                     object\n",
       "UNIT                                                                    object\n",
       "SCP                                                                     object\n",
       "STATION                                                                 object\n",
       "LINENAME                                                                object\n",
       "DIVISION                                                                object\n",
       "DATE                                                                    object\n",
       "TIME                                                                    object\n",
       "DESC                                                                    object\n",
       "ENTRIES                                                                  int64\n",
       "EXITS                                                                    int64\n",
       "dtype: object"
      ]
     },
     "execution_count": 150,
     "metadata": {},
     "output_type": "execute_result"
    }
   ],
   "source": [
    "df.dtypes"
   ]
  },
  {
   "cell_type": "code",
   "execution_count": 161,
   "id": "3a756502",
   "metadata": {},
   "outputs": [
    {
     "data": {
      "text/plain": [
       "0   2021-06-26\n",
       "1   2021-06-26\n",
       "2   2021-06-26\n",
       "3   2021-06-26\n",
       "4   2021-06-26\n",
       "Name: DATE, dtype: datetime64[ns]"
      ]
     },
     "execution_count": 161,
     "metadata": {},
     "output_type": "execute_result"
    }
   ],
   "source": [
    "df['DATE'] = df['DATE'].apply(pd.to_datetime)\n",
    "df['DATE'].head()"
   ]
  },
  {
   "cell_type": "markdown",
   "id": "c6f25fa5",
   "metadata": {},
   "source": [
    "##### Read NYC events dataset\n"
   ]
  },
  {
   "cell_type": "code",
   "execution_count": 53,
   "id": "39b6b029",
   "metadata": {},
   "outputs": [
    {
     "data": {
      "text/html": [
       "<div>\n",
       "<style scoped>\n",
       "    .dataframe tbody tr th:only-of-type {\n",
       "        vertical-align: middle;\n",
       "    }\n",
       "\n",
       "    .dataframe tbody tr th {\n",
       "        vertical-align: top;\n",
       "    }\n",
       "\n",
       "    .dataframe thead th {\n",
       "        text-align: right;\n",
       "    }\n",
       "</style>\n",
       "<table border=\"1\" class=\"dataframe\">\n",
       "  <thead>\n",
       "    <tr style=\"text-align: right;\">\n",
       "      <th></th>\n",
       "      <th>Event ID</th>\n",
       "      <th>Event Name</th>\n",
       "      <th>Start Date/Time</th>\n",
       "      <th>End Date/Time</th>\n",
       "      <th>Event Agency</th>\n",
       "      <th>Event Type</th>\n",
       "      <th>Event Borough</th>\n",
       "      <th>Event Location</th>\n",
       "      <th>Event Street Side</th>\n",
       "      <th>Street Closure Type</th>\n",
       "      <th>Community Board</th>\n",
       "      <th>Police Precinct</th>\n",
       "    </tr>\n",
       "  </thead>\n",
       "  <tbody>\n",
       "    <tr>\n",
       "      <th>0</th>\n",
       "      <td>598895</td>\n",
       "      <td>Baseball - Adults</td>\n",
       "      <td>10/20/2021 12:00:00 PM</td>\n",
       "      <td>10/20/2021 05:00:00 PM</td>\n",
       "      <td>Parks Department</td>\n",
       "      <td>Sport - Adult</td>\n",
       "      <td>Bronx</td>\n",
       "      <td>Van Cortlandt Park: Stadium-Baseball-01</td>\n",
       "      <td>NaN</td>\n",
       "      <td>NaN</td>\n",
       "      <td>26,</td>\n",
       "      <td>50,</td>\n",
       "    </tr>\n",
       "    <tr>\n",
       "      <th>1</th>\n",
       "      <td>581423</td>\n",
       "      <td>Soccer - Non Regulation</td>\n",
       "      <td>10/12/2021 03:00:00 PM</td>\n",
       "      <td>10/12/2021 06:00:00 PM</td>\n",
       "      <td>Parks Department</td>\n",
       "      <td>Sport - Youth</td>\n",
       "      <td>Brooklyn</td>\n",
       "      <td>Bush Terminal Park: Soccer-02 ,Bush Terminal P...</td>\n",
       "      <td>NaN</td>\n",
       "      <td>NaN</td>\n",
       "      <td>01, 07, 08, 10, 13, 16,</td>\n",
       "      <td>60, 68, 72, 73, 77, 94,</td>\n",
       "    </tr>\n",
       "    <tr>\n",
       "      <th>2</th>\n",
       "      <td>589278</td>\n",
       "      <td>Soccer - Non Regulation</td>\n",
       "      <td>10/15/2021 12:00:00 PM</td>\n",
       "      <td>10/15/2021 05:30:00 PM</td>\n",
       "      <td>Parks Department</td>\n",
       "      <td>Sport - Youth</td>\n",
       "      <td>Staten Island</td>\n",
       "      <td>Fairview Park: Multi-Purpose Play Area-01</td>\n",
       "      <td>NaN</td>\n",
       "      <td>NaN</td>\n",
       "      <td>3,</td>\n",
       "      <td>123,</td>\n",
       "    </tr>\n",
       "    <tr>\n",
       "      <th>3</th>\n",
       "      <td>585078</td>\n",
       "      <td>Soccer -Regulation</td>\n",
       "      <td>10/22/2021 10:00:00 AM</td>\n",
       "      <td>10/22/2021 11:30:00 AM</td>\n",
       "      <td>Parks Department</td>\n",
       "      <td>Sport - Youth</td>\n",
       "      <td>Manhattan</td>\n",
       "      <td>Randall's Island Park: Wards Meadow Fields-Soc...</td>\n",
       "      <td>NaN</td>\n",
       "      <td>NaN</td>\n",
       "      <td>11,</td>\n",
       "      <td>25,</td>\n",
       "    </tr>\n",
       "    <tr>\n",
       "      <th>4</th>\n",
       "      <td>590861</td>\n",
       "      <td>Lawn Closure of Veterans lawn</td>\n",
       "      <td>10/21/2021 12:01:00 AM</td>\n",
       "      <td>10/21/2021 11:00:00 PM</td>\n",
       "      <td>Parks Department</td>\n",
       "      <td>Special Event</td>\n",
       "      <td>Manhattan</td>\n",
       "      <td>Madison Square Park: Veterans Lawn</td>\n",
       "      <td>NaN</td>\n",
       "      <td>NaN</td>\n",
       "      <td>5,</td>\n",
       "      <td>13,</td>\n",
       "    </tr>\n",
       "  </tbody>\n",
       "</table>\n",
       "</div>"
      ],
      "text/plain": [
       "   Event ID                     Event Name         Start Date/Time  \\\n",
       "0    598895              Baseball - Adults  10/20/2021 12:00:00 PM   \n",
       "1    581423        Soccer - Non Regulation  10/12/2021 03:00:00 PM   \n",
       "2    589278        Soccer - Non Regulation  10/15/2021 12:00:00 PM   \n",
       "3    585078             Soccer -Regulation  10/22/2021 10:00:00 AM   \n",
       "4    590861  Lawn Closure of Veterans lawn  10/21/2021 12:01:00 AM   \n",
       "\n",
       "            End Date/Time      Event Agency     Event Type  Event Borough  \\\n",
       "0  10/20/2021 05:00:00 PM  Parks Department  Sport - Adult          Bronx   \n",
       "1  10/12/2021 06:00:00 PM  Parks Department  Sport - Youth       Brooklyn   \n",
       "2  10/15/2021 05:30:00 PM  Parks Department  Sport - Youth  Staten Island   \n",
       "3  10/22/2021 11:30:00 AM  Parks Department  Sport - Youth      Manhattan   \n",
       "4  10/21/2021 11:00:00 PM  Parks Department  Special Event      Manhattan   \n",
       "\n",
       "                                      Event Location Event Street Side  \\\n",
       "0            Van Cortlandt Park: Stadium-Baseball-01               NaN   \n",
       "1  Bush Terminal Park: Soccer-02 ,Bush Terminal P...               NaN   \n",
       "2          Fairview Park: Multi-Purpose Play Area-01               NaN   \n",
       "3  Randall's Island Park: Wards Meadow Fields-Soc...               NaN   \n",
       "4                 Madison Square Park: Veterans Lawn               NaN   \n",
       "\n",
       "  Street Closure Type          Community Board          Police Precinct  \n",
       "0                 NaN                      26,                      50,  \n",
       "1                 NaN  01, 07, 08, 10, 13, 16,  60, 68, 72, 73, 77, 94,  \n",
       "2                 NaN                       3,                     123,  \n",
       "3                 NaN                      11,                      25,  \n",
       "4                 NaN                       5,                      13,  "
      ]
     },
     "execution_count": 53,
     "metadata": {},
     "output_type": "execute_result"
    }
   ],
   "source": [
    "df_event = pd.read_csv(\"NYC_Permitted_Event_Information.csv\")\n",
    "df_event.head()"
   ]
  },
  {
   "cell_type": "markdown",
   "id": "363a53ba",
   "metadata": {},
   "source": [
    "##### Find the percentage of missing values in each column in the event dataset\n"
   ]
  },
  {
   "cell_type": "code",
   "execution_count": 54,
   "id": "777cc08c",
   "metadata": {
    "scrolled": false
   },
   "outputs": [
    {
     "name": "stdout",
     "output_type": "stream",
     "text": [
      "Event ID - 0%\n",
      "Event Name - 0%\n",
      "Start Date/Time - 0%\n",
      "End Date/Time - 0%\n",
      "Event Agency - 0%\n",
      "Event Type - 0%\n",
      "Event Borough - 0%\n",
      "Event Location - 0%\n",
      "Event Street Side - 97%\n",
      "Street Closure Type - 97%\n",
      "Community Board - 0%\n",
      "Police Precinct - 0%\n"
     ]
    }
   ],
   "source": [
    "for col in df_event.columns:\n",
    "    pct_missing = np.mean(df_event[col].isna())\n",
    "    print('{} - {}%'.format(col, round(pct_missing*100)))"
   ]
  },
  {
   "cell_type": "markdown",
   "id": "db86a359",
   "metadata": {},
   "source": [
    "##### Drop columns with missing values\n"
   ]
  },
  {
   "cell_type": "code",
   "execution_count": 55,
   "id": "e5123a50",
   "metadata": {},
   "outputs": [
    {
     "data": {
      "text/plain": [
       "Index(['Event ID', 'Event Name', 'Start Date/Time', 'End Date/Time',\n",
       "       'Event Agency', 'Event Type', 'Event Borough', 'Event Location',\n",
       "       'Event Street Side', 'Street Closure Type', 'Community Board',\n",
       "       'Police Precinct'],\n",
       "      dtype='object')"
      ]
     },
     "execution_count": 55,
     "metadata": {},
     "output_type": "execute_result"
    }
   ],
   "source": [
    "df_event.columns"
   ]
  },
  {
   "cell_type": "code",
   "execution_count": 56,
   "id": "a2126674",
   "metadata": {},
   "outputs": [
    {
     "data": {
      "text/plain": [
       "Index(['Event ID', 'Event Name', 'Start Date/Time', 'End Date/Time',\n",
       "       'Event Agency', 'Event Type', 'Event Borough', 'Event Location',\n",
       "       'Community Board', 'Police Precinct'],\n",
       "      dtype='object')"
      ]
     },
     "execution_count": 56,
     "metadata": {},
     "output_type": "execute_result"
    }
   ],
   "source": [
    "df_event = df_event.drop(labels=['Event Street Side','Street Closure Type'],axis=1)\n",
    "df_event.columns"
   ]
  },
  {
   "cell_type": "markdown",
   "id": "e3bbb27b",
   "metadata": {},
   "source": [
    "##### Checking the type of each column\n"
   ]
  },
  {
   "cell_type": "code",
   "execution_count": 57,
   "id": "990cb626",
   "metadata": {},
   "outputs": [
    {
     "data": {
      "text/plain": [
       "Event ID            int64\n",
       "Event Name         object\n",
       "Start Date/Time    object\n",
       "End Date/Time      object\n",
       "Event Agency       object\n",
       "Event Type         object\n",
       "Event Borough      object\n",
       "Event Location     object\n",
       "Community Board    object\n",
       "Police Precinct    object\n",
       "dtype: object"
      ]
     },
     "execution_count": 57,
     "metadata": {},
     "output_type": "execute_result"
    }
   ],
   "source": [
    "df_event.dtypes"
   ]
  },
  {
   "cell_type": "markdown",
   "id": "10f81a5c",
   "metadata": {},
   "source": [
    "##### Convert Start and End date to datetime objects"
   ]
  },
  {
   "cell_type": "code",
   "execution_count": 58,
   "id": "744770f3",
   "metadata": {},
   "outputs": [],
   "source": [
    "df_event[['Start Date/Time','End Date/Time']] = df_event[['Start Date/Time','End Date/Time']].apply(pd.to_datetime)"
   ]
  },
  {
   "cell_type": "code",
   "execution_count": 59,
   "id": "85262317",
   "metadata": {},
   "outputs": [
    {
     "data": {
      "text/plain": [
       "Event ID                    int64\n",
       "Event Name                 object\n",
       "Start Date/Time    datetime64[ns]\n",
       "End Date/Time      datetime64[ns]\n",
       "Event Agency               object\n",
       "Event Type                 object\n",
       "Event Borough              object\n",
       "Event Location             object\n",
       "Community Board            object\n",
       "Police Precinct            object\n",
       "dtype: object"
      ]
     },
     "execution_count": 59,
     "metadata": {},
     "output_type": "execute_result"
    }
   ],
   "source": [
    "df_event.dtypes"
   ]
  },
  {
   "cell_type": "code",
   "execution_count": 60,
   "id": "17f3e4f6",
   "metadata": {},
   "outputs": [
    {
     "name": "stdout",
     "output_type": "stream",
     "text": [
      "Event ID - 0%\n",
      "Event Name - 0%\n",
      "Start Date/Time - 0%\n",
      "End Date/Time - 0%\n",
      "Event Agency - 0%\n",
      "Event Type - 0%\n",
      "Event Borough - 0%\n",
      "Event Location - 0%\n",
      "Community Board - 0%\n",
      "Police Precinct - 0%\n"
     ]
    }
   ],
   "source": [
    "for col in df_event.columns:\n",
    "    pct_missing = np.mean(df_event[col].isna())\n",
    "    print('{} - {}%'.format(col, round(pct_missing*100)))"
   ]
  },
  {
   "cell_type": "code",
   "execution_count": 89,
   "id": "4253dac8",
   "metadata": {},
   "outputs": [
    {
     "name": "stdout",
     "output_type": "stream",
     "text": [
      "3523\n"
     ]
    }
   ],
   "source": [
    "event_locations = df_event['Event Location'].unique()\n",
    "#print(sorted(locations))\n",
    "print(len(locations))"
   ]
  },
  {
   "cell_type": "code",
   "execution_count": 90,
   "id": "22de8f3b",
   "metadata": {},
   "outputs": [
    {
     "name": "stdout",
     "output_type": "stream",
     "text": [
      "['Sport - Adult' 'Sport - Youth' 'Special Event' 'Farmers Market'\n",
      " 'Religious Event' 'Street Event' 'Block Party' 'Production Event'\n",
      " 'Open Culture' 'Parade' 'Stickball' 'Shooting Permit' 'Plaza Event'\n",
      " 'Sidewalk Sale' 'Theater Load in and Load Outs' 'Press Conference'\n",
      " 'Single Block Festival' 'Athletic Race / Tour' 'Health Fair'\n",
      " 'Plaza Partner Event' 'Rigging Permit' 'Street Festival' 'Rally']\n"
     ]
    }
   ],
   "source": [
    "df_event[\"Event Type\"] = df_event[\"Event Type\"].str.strip(' ')\n",
    "event_type = df_event[\"Event Type\"].unique()\n",
    "print(event_type)\n"
   ]
  },
  {
   "cell_type": "code",
   "execution_count": 112,
   "id": "9e0fba99",
   "metadata": {},
   "outputs": [
    {
     "data": {
      "text/plain": [
       "2021-09-25    1299\n",
       "2021-10-02    1072\n",
       "2021-09-26    1071\n",
       "2021-10-16     956\n",
       "2021-10-03     954\n",
       "              ... \n",
       "2021-12-23       1\n",
       "2021-11-03       1\n",
       "2021-11-10       1\n",
       "2021-12-30       1\n",
       "2021-12-02       1\n",
       "Name: Start Date/Time, Length: 118, dtype: int64"
      ]
     },
     "execution_count": 112,
     "metadata": {},
     "output_type": "execute_result"
    }
   ],
   "source": [
    "events_date = df_event['Start Date/Time'].dt.date.value_counts()\n",
    "events_date"
   ]
  },
  {
   "cell_type": "code",
   "execution_count": 146,
   "id": "98c899d6",
   "metadata": {},
   "outputs": [
    {
     "data": {
      "text/plain": [
       "(118,)"
      ]
     },
     "execution_count": 146,
     "metadata": {},
     "output_type": "execute_result"
    }
   ],
   "source": [
    "events_date.shape"
   ]
  },
  {
   "cell_type": "code",
   "execution_count": 113,
   "id": "bd771ec1",
   "metadata": {},
   "outputs": [
    {
     "data": {
      "text/plain": [
       "<AxesSubplot:ylabel='Start Date/Time'>"
      ]
     },
     "execution_count": 113,
     "metadata": {},
     "output_type": "execute_result"
    },
    {
     "data": {
      "image/png": "[encoded data removed]",
      "text/plain": [
       "<Figure size 720x720 with 1 Axes>"
      ]
     },
     "metadata": {},
     "output_type": "display_data"
    }
   ],
   "source": [
    "# plt.plot(events_date)\n",
    "events_date.plot(kind='pie', figsize=(10,10),autopct='%1.0f%%')"
   ]
  },
  {
   "cell_type": "code",
   "execution_count": 124,
   "id": "37f2fc9c",
   "metadata": {},
   "outputs": [],
   "source": [
    "grouped_by_date = df_event.groupby(df_event['Start Date/Time'].dt.date)[[\"Event Type\"]].max()"
   ]
  },
  {
   "cell_type": "code",
   "execution_count": 131,
   "id": "79511ae6",
   "metadata": {
    "scrolled": true
   },
   "outputs": [
    {
     "data": {
      "text/html": [
       "<div>\n",
       "<style scoped>\n",
       "    .dataframe tbody tr th:only-of-type {\n",
       "        vertical-align: middle;\n",
       "    }\n",
       "\n",
       "    .dataframe tbody tr th {\n",
       "        vertical-align: top;\n",
       "    }\n",
       "\n",
       "    .dataframe thead th {\n",
       "        text-align: right;\n",
       "    }\n",
       "</style>\n",
       "<table border=\"1\" class=\"dataframe\">\n",
       "  <thead>\n",
       "    <tr style=\"text-align: right;\">\n",
       "      <th></th>\n",
       "      <th>Event Type</th>\n",
       "    </tr>\n",
       "    <tr>\n",
       "      <th>Start Date/Time</th>\n",
       "      <th></th>\n",
       "    </tr>\n",
       "  </thead>\n",
       "  <tbody>\n",
       "    <tr>\n",
       "      <th>2020-08-18</th>\n",
       "      <td>Production Event</td>\n",
       "    </tr>\n",
       "    <tr>\n",
       "      <th>2021-01-04</th>\n",
       "      <td>Shooting Permit</td>\n",
       "    </tr>\n",
       "    <tr>\n",
       "      <th>2021-05-09</th>\n",
       "      <td>Production Event</td>\n",
       "    </tr>\n",
       "    <tr>\n",
       "      <th>2021-06-27</th>\n",
       "      <td>Production Event</td>\n",
       "    </tr>\n",
       "    <tr>\n",
       "      <th>2021-07-03</th>\n",
       "      <td>Street Event</td>\n",
       "    </tr>\n",
       "    <tr>\n",
       "      <th>...</th>\n",
       "      <td>...</td>\n",
       "    </tr>\n",
       "    <tr>\n",
       "      <th>2021-12-23</th>\n",
       "      <td>Special Event</td>\n",
       "    </tr>\n",
       "    <tr>\n",
       "      <th>2021-12-28</th>\n",
       "      <td>Special Event</td>\n",
       "    </tr>\n",
       "    <tr>\n",
       "      <th>2021-12-29</th>\n",
       "      <td>Special Event</td>\n",
       "    </tr>\n",
       "    <tr>\n",
       "      <th>2021-12-30</th>\n",
       "      <td>Special Event</td>\n",
       "    </tr>\n",
       "    <tr>\n",
       "      <th>2021-12-31</th>\n",
       "      <td>Special Event</td>\n",
       "    </tr>\n",
       "  </tbody>\n",
       "</table>\n",
       "<p>118 rows × 1 columns</p>\n",
       "</div>"
      ],
      "text/plain": [
       "                       Event Type\n",
       "Start Date/Time                  \n",
       "2020-08-18       Production Event\n",
       "2021-01-04        Shooting Permit\n",
       "2021-05-09       Production Event\n",
       "2021-06-27       Production Event\n",
       "2021-07-03           Street Event\n",
       "...                           ...\n",
       "2021-12-23          Special Event\n",
       "2021-12-28          Special Event\n",
       "2021-12-29          Special Event\n",
       "2021-12-30          Special Event\n",
       "2021-12-31          Special Event\n",
       "\n",
       "[118 rows x 1 columns]"
      ]
     },
     "execution_count": 131,
     "metadata": {},
     "output_type": "execute_result"
    }
   ],
   "source": [
    "grouped_by_date = pd.DataFrame(grouped_by_date)\n",
    "grouped_by_date = grouped_by_date.sort_values('Start Date/Time')\n",
    "grouped_by_date"
   ]
  },
  {
   "cell_type": "code",
   "execution_count": 132,
   "id": "70234a40",
   "metadata": {
    "scrolled": true
   },
   "outputs": [
    {
     "data": {
      "text/plain": [
       "array(['Bronx', 'Brooklyn', 'Staten Island', 'Manhattan', 'Queens'],\n",
       "      dtype=object)"
      ]
     },
     "execution_count": 132,
     "metadata": {},
     "output_type": "execute_result"
    }
   ],
   "source": [
    "boroughs = df_event['Event Borough'].unique()\n",
    "boroughs"
   ]
  },
  {
   "cell_type": "code",
   "execution_count": 176,
   "id": "1ec98053",
   "metadata": {},
   "outputs": [
    {
     "name": "stdout",
     "output_type": "stream",
     "text": [
      "Sport - Youth            2283\n",
      "Special Event             479\n",
      "Sport - Adult             218\n",
      "Farmers Market             45\n",
      "Street Event               10\n",
      "Sidewalk Sale               8\n",
      "Stickball                   4\n",
      "Athletic Race / Tour        3\n",
      "Parade                      3\n",
      "Open Culture                2\n",
      "Single Block Festival       2\n",
      "Press Conference            1\n",
      "Block Party                 1\n",
      "Plaza Event                 1\n",
      "Name: Event Type, dtype: int64\n",
      "Sport - Youth            4292\n",
      "Sport - Adult             843\n",
      "Special Event             742\n",
      "Farmers Market             78\n",
      "Block Party                60\n",
      "Street Event               38\n",
      "Religious Event            35\n",
      "Open Culture               10\n",
      "Parade                      9\n",
      "Plaza Partner Event         9\n",
      "Production Event            7\n",
      "Athletic Race / Tour        2\n",
      "Plaza Event                 2\n",
      "Single Block Festival       1\n",
      "Rigging Permit              1\n",
      "Street Festival             1\n",
      "Name: Event Type, dtype: int64\n",
      "Sport - Youth    816\n",
      "Special Event    604\n",
      "Sport - Adult    175\n",
      "Block Party        6\n",
      "Street Event       3\n",
      "Name: Event Type, dtype: int64\n",
      "Sport - Youth                    5670\n",
      "Sport - Adult                    2216\n",
      "Special Event                    1670\n",
      "Farmers Market                    128\n",
      "Street Event                       42\n",
      "Production Event                   32\n",
      "Plaza Partner Event                29\n",
      "Plaza Event                        28\n",
      "Theater Load in and Load Outs      26\n",
      "Religious Event                    25\n",
      "Sidewalk Sale                      20\n",
      "Open Culture                       12\n",
      "Parade                              8\n",
      "Block Party                         6\n",
      "Single Block Festival               6\n",
      "Street Festival                     4\n",
      "Athletic Race / Tour                3\n",
      "Health Fair                         2\n",
      "Shooting Permit                     1\n",
      "Rally                               1\n",
      "Name: Event Type, dtype: int64\n",
      "Sport - Youth            3478\n",
      "Sport - Adult            1135\n",
      "Special Event             638\n",
      "Farmers Market             32\n",
      "Street Event               27\n",
      "Plaza Event                11\n",
      "Parade                      7\n",
      "Block Party                 7\n",
      "Religious Event             3\n",
      "Health Fair                 2\n",
      "Open Culture                1\n",
      "Single Block Festival       1\n",
      "Athletic Race / Tour        1\n",
      "Street Festival             1\n",
      "Name: Event Type, dtype: int64\n"
     ]
    }
   ],
   "source": [
    "## get the count of each event type in each borough\n",
    "from collections import Counter\n",
    "\n",
    "bronx_list = df_event.loc[df_event['Event Borough'] == 'Bronx']\n",
    "bronx_list_count = bronx_list['Event Type'].value_counts()\n",
    "print(bronx_list_count)\n",
    "\n",
    "brooklyn_list = df_event.loc[df_event['Event Borough'] == 'Brooklyn']\n",
    "brooklyn_list_count = brooklyn_list['Event Type'].value_counts()\n",
    "print(brooklyn_list_count)\n",
    "\n",
    "staten_island_list = df_event.loc[df_event['Event Borough'] == 'Staten Island']\n",
    "staten_island_list_count = staten_island_list['Event Type'].value_counts()\n",
    "print(staten_island_list_count)\n",
    "\n",
    "manhattan_list = df_event.loc[df_event['Event Borough'] == 'Manhattan']\n",
    "manhattan_list_count = manhattan_list['Event Type'].value_counts()\n",
    "print(manhattan_list_count)\n",
    "\n",
    "queens_list = df_event.loc[df_event['Event Borough'] == 'Queens']\n",
    "queens_list_count = queens_list['Event Type'].value_counts()\n",
    "print(queens_list_count)"
   ]
  },
  {
   "cell_type": "code",
   "execution_count": 145,
   "id": "077933c2",
   "metadata": {},
   "outputs": [
    {
     "data": {
      "text/plain": [
       "Sport - Youth                    16539\n",
       "Sport - Adult                     4587\n",
       "Special Event                     4133\n",
       "Farmers Market                     283\n",
       "Street Event                       120\n",
       "Block Party                         80\n",
       "Religious Event                     63\n",
       "Plaza Event                         42\n",
       "Production Event                    39\n",
       "Plaza Partner Event                 38\n",
       "Sidewalk Sale                       28\n",
       "Parade                              27\n",
       "Theater Load in and Load Outs       26\n",
       "Open Culture                        25\n",
       "Single Block Festival               10\n",
       "Athletic Race / Tour                 9\n",
       "Street Festival                      6\n",
       "Health Fair                          4\n",
       "Stickball                            4\n",
       "Rigging Permit                       1\n",
       "Shooting Permit                      1\n",
       "Press Conference                     1\n",
       "Rally                                1\n",
       "Name: Event Type, dtype: int64"
      ]
     },
     "execution_count": 145,
     "metadata": {},
     "output_type": "execute_result"
    }
   ],
   "source": [
    "events_type_count = df_event[\"Event Type\"].value_counts()\n",
    "events_type_count"
   ]
  },
  {
   "cell_type": "code",
   "execution_count": null,
   "id": "79a8dccd",
   "metadata": {},
   "outputs": [],
   "source": [
    "# boroughs\n",
    "\n",
    "# men_means = [20, 35, 30, 35, 27]\n",
    "# women_means = [25, 32, 34, 20, 25]\n",
    "# men_std = [2, 3, 4, 1, 2]\n",
    "# women_std = [3, 5, 2, 3, 3]\n",
    "# width = 0.35       # the width of the bars: can also be len(x) sequence\n",
    "\n",
    "# fig, ax = plt.subplots()\n",
    "\n",
    "# ax.bar(labels, men_means, width, yerr=men_std, label='Men')\n",
    "# ax.bar(labels, women_means, width, yerr=women_std, bottom=men_means,\n",
    "#        label='Women')\n",
    "\n",
    "# ax.set_ylabel('Scores')\n",
    "# ax.set_title('Scores by group and gender')\n",
    "# ax.legend()\n",
    "\n",
    "# plt.show()"
   ]
  },
  {
   "cell_type": "code",
   "execution_count": null,
   "id": "0149e1a0",
   "metadata": {},
   "outputs": [],
   "source": []
  }
 ],
 "metadata": {
  "kernelspec": {
   "display_name": "Python 3 (ipykernel)",
   "language": "python",
   "name": "python3"
  },
  "language_info": {
   "codemirror_mode": {
    "name": "ipython",
    "version": 3
   },
   "file_extension": ".py",
   "mimetype": "text/x-python",
   "name": "python",
   "nbconvert_exporter": "python",
   "pygments_lexer": "ipython3",
   "version": "3.8.5"
  }
 },
 "nbformat": 4,
 "nbformat_minor": 5
}
